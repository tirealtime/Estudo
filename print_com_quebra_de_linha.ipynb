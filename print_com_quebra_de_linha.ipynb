{
  "nbformat": 4,
  "nbformat_minor": 0,
  "metadata": {
    "colab": {
      "name": "Untitled2.ipynb",
      "provenance": [],
      "collapsed_sections": []
    },
    "kernelspec": {
      "name": "python3",
      "display_name": "Python 3"
    }
  },
  "cells": [
    {
      "cell_type": "code",
      "metadata": {
        "colab": {
          "base_uri": "https://localhost:8080/"
        },
        "id": "OJ9AUxB76z4I",
        "outputId": "c0002d4b-cb6e-4ce8-a3d8-ca76fccd7263"
      },
      "source": [
        "print(\"Brilha, brilha, estrelinha \\n\\tQuero ver você brilhar \\n\\tLá no alto, lá no céu \\n\\tNum desenho de cordel\\n\\nBrilha, brilha, estrelinha\\n\\t Baila, linda bailarina\")"
      ],
      "execution_count": 8,
      "outputs": [
        {
          "output_type": "stream",
          "text": [
            "Brilha, brilha, estrelinha \n",
            "\tQuero ver você brilhar \n",
            "\tLá no alto, lá no céu \n",
            "\tNum desenho de cordel\n",
            "\n",
            "Brilha, brilha, estrelinha\n",
            "\t Baila, linda bailarina\n"
          ],
          "name": "stdout"
        }
      ]
    },
    {
      "cell_type": "markdown",
      "metadata": {
        "id": "yzea4Z0-_YMy"
      },
      "source": [
        "Recurso de \\n quebra de linha e \\t um tab ou seja espaço."
      ]
    }
  ]
}