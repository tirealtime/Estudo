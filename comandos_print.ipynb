{
  "nbformat": 4,
  "nbformat_minor": 0,
  "metadata": {
    "colab": {
      "name": "comandos_print.ipynb",
      "provenance": [],
      "collapsed_sections": [],
      "authorship_tag": "ABX9TyP8qCDptEs8vfSoM2JWx7no",
      "include_colab_link": true
    },
    "kernelspec": {
      "name": "python3",
      "display_name": "Python 3"
    }
  },
  "cells": [
    {
      "cell_type": "markdown",
      "metadata": {
        "id": "view-in-github",
        "colab_type": "text"
      },
      "source": [
        "<a href=\"https://colab.research.google.com/github/tirealtime/Estudo/blob/main/comandos_print.ipynb\" target=\"_parent\"><img src=\"https://colab.research.google.com/assets/colab-badge.svg\" alt=\"Open In Colab\"/></a>"
      ]
    },
    {
      "cell_type": "code",
      "metadata": {
        "colab": {
          "base_uri": "https://localhost:8080/"
        },
        "id": "OJ9AUxB76z4I",
        "outputId": "c0002d4b-cb6e-4ce8-a3d8-ca76fccd7263"
      },
      "source": [
        "print(\"Brilha, brilha, estrelinha \\n\\tQuero ver você brilhar \\n\\tLá no alto, lá no céu \\n\\tNum desenho de cordel\\n\\nBrilha, brilha, estrelinha\\n\\t Baila, linda bailarina\")"
      ],
      "execution_count": null,
      "outputs": [
        {
          "output_type": "stream",
          "text": [
            "Brilha, brilha, estrelinha \n",
            "\tQuero ver você brilhar \n",
            "\tLá no alto, lá no céu \n",
            "\tNum desenho de cordel\n",
            "\n",
            "Brilha, brilha, estrelinha\n",
            "\t Baila, linda bailarina\n"
          ],
          "name": "stdout"
        }
      ]
    },
    {
      "cell_type": "markdown",
      "metadata": {
        "id": "yzea4Z0-_YMy"
      },
      "source": [
        "**Recurso de \\n quebra de linha e \\t um tab ou seja espaço.**"
      ]
    },
    {
      "cell_type": "code",
      "metadata": {
        "id": "MRXA8-E7rJbB",
        "colab": {
          "base_uri": "https://localhost:8080/"
        },
        "outputId": "d574ce14-327d-4dfe-8351-0e93df84ee53"
      },
      "source": [
        "import sys\r\n",
        "print(\"Versão do Python\")\r\n",
        "print(sys.version)\r\n",
        "print(\"\\nVersion info.\")\r\n",
        "print(sys.version_info)"
      ],
      "execution_count": 1,
      "outputs": [
        {
          "output_type": "stream",
          "text": [
            "Versão do Python\n",
            "3.6.9 (default, Oct  8 2020, 12:12:24) \n",
            "[GCC 8.4.0]\n",
            "\n",
            "Version info.\n",
            "sys.version_info(major=3, minor=6, micro=9, releaselevel='final', serial=0)\n"
          ],
          "name": "stdout"
        }
      ]
    },
    {
      "cell_type": "markdown",
      "metadata": {
        "id": "vySp6rOmrxUR"
      },
      "source": [
        "**Versão do Python utilzada.**\r\n"
      ]
    }
  ]
}